{
 "metadata": {
  "language_info": {
   "codemirror_mode": {
    "name": "ipython",
    "version": 3
   },
   "file_extension": ".py",
   "mimetype": "text/x-python",
   "name": "python",
   "nbconvert_exporter": "python",
   "pygments_lexer": "ipython3",
   "version": "3.6.13-final"
  },
  "orig_nbformat": 2,
  "kernelspec": {
   "name": "python3",
   "display_name": "Python 3.6.13 64-bit ('crowd-segmentation': conda)",
   "metadata": {
    "interpreter": {
     "hash": "c8108452e5625bffb9001aaa374bdf5b2feb969fa28e475994fa31f87c56ebc4"
    }
   }
  }
 },
 "nbformat": 4,
 "nbformat_minor": 2,
 "cells": [
  {
   "cell_type": "code",
   "execution_count": 1,
   "metadata": {},
   "outputs": [
    {
     "output_type": "stream",
     "name": "stdout",
     "text": [
      "Device found : [PhysicalDevice(name='/physical_device:GPU:0', device_type='GPU')]\n"
     ]
    }
   ],
   "source": [
    "import sys\n",
    "import tensorflow as tf\n",
    "\n",
    "\n",
    "physical_device = tf.config.experimental.list_physical_devices('GPU')\n",
    "print(f'Device found : {physical_device}')\n",
    "\n",
    "if len(physical_device) is 0:\n",
    "    print('No GPUs found!')\n",
    "    sys.exit(-1)"
   ]
  },
  {
   "cell_type": "code",
   "execution_count": 2,
   "metadata": {},
   "outputs": [],
   "source": [
    "import os\n",
    "import numpy as np\n",
    "\n",
    "\n",
    "# These are specific to ShanghaiTech\n",
    "IMAGE_FOLDER_NAME = 'images'\n",
    "GT_FOLDER_NAME = 'ground-truth'\n",
    "DMAP_FOLDER_NAME = 'density-map'\n",
    "CROWDSEG_FOLDER_NAME = 'crowd-segment'\n",
    "\n",
    "IMAGE_PREFIX = 'IMG_'\n",
    "GT_PREFIX = 'GT_IMG_'\n",
    "DMAP_PREFIX = 'DMAP_'\n",
    "CROWDSEG_PREFIX = 'CROWDSEG_'\n",
    "\n",
    "# Edit this line if your relative path is different\n",
    "data_folders = ['data/ShanghaiTech/part_B/' + folder for folder in ['train_data', 'test_data']]\n",
    "\n",
    "# Create necessary folders\n",
    "for folder in data_folders:\n",
    "    os.makedirs(os.path.join(folder, DMAP_FOLDER_NAME), exist_ok=True)\n",
    "    os.makedirs(os.path.join(folder, CROWDSEG_FOLDER_NAME), exist_ok=True)"
   ]
  },
  {
   "cell_type": "code",
   "execution_count": 3,
   "metadata": {
    "tags": []
   },
   "outputs": [
    {
     "output_type": "stream",
     "name": "stderr",
     "text": [
      "100%|██████████| 400/400 [00:26<00:00, 15.11it/s]\n",
      "100%|██████████| 316/316 [00:20<00:00, 15.65it/s]\n"
     ]
    }
   ],
   "source": [
    "import cv2\n",
    "import utils\n",
    "from scipy.io import loadmat\n",
    "from tqdm import tqdm\n",
    "\n",
    "\n",
    "save_dmap = False\n",
    "save_crowdseg = False\n",
    "\n",
    "for folder in data_folders:\n",
    "    for file in tqdm(os.listdir(os.path.join(folder, IMAGE_FOLDER_NAME))):\n",
    "        img_path = os.path.join(folder, IMAGE_FOLDER_NAME, file)\n",
    "        gt_path = img_path.replace(IMAGE_PREFIX, GT_PREFIX).replace('jpg', 'mat').replace(IMAGE_FOLDER_NAME, GT_FOLDER_NAME)\n",
    "        dmap_path = img_path.replace(IMAGE_PREFIX, DMAP_PREFIX).replace('jpg', 'npy').replace(IMAGE_FOLDER_NAME, DMAP_FOLDER_NAME)\n",
    "        crowdseg_path = img_path.replace(IMAGE_PREFIX, CROWDSEG_PREFIX).replace('jpg', 'npy').replace(IMAGE_FOLDER_NAME, CROWDSEG_FOLDER_NAME)\n",
    "\n",
    "        image = cv2.imread(img_path)\n",
    "        points = loadmat(gt_path)['image_info'][0, 0][0, 0][0]\n",
    "        \n",
    "        dmap = utils.gen_density_map_gaussian(image, points)\n",
    "        crowdseg = utils.gen_crowdseg(image, dmap)\n",
    "\n",
    "        if save_dmap:\n",
    "            np.save(dmap_path, dmap)\n",
    "        \n",
    "        if save_crowdseg:\n",
    "            np.save(crowdseg_path, crowdseg)"
   ]
  },
  {
   "cell_type": "code",
   "execution_count": 1,
   "metadata": {},
   "outputs": [],
   "source": [
    "import cv2\n",
    "import matplotlib.pyplot as plt\n",
    "\n",
    "\n",
    "# Show the last-run density maps and segmented images.\n",
    "plt.imshow(image)\n",
    "plt.show()\n",
    "\n",
    "plt.imshow(dmap)\n",
    "plt.show()\n",
    "\n",
    "plt.imshow(crowdseg)\n",
    "plt.show()"
   ]
  }
 ]
}